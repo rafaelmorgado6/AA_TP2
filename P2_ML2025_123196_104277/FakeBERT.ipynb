{
 "cells": [
  {
   "cell_type": "markdown",
   "metadata": {},
   "source": [
    "# Fake News Detection com FakeBERT (BERT + CNN)"
   ]
  },
  {
   "cell_type": "code",
   "execution_count": 10,
   "metadata": {},
   "outputs": [
    {
     "data": {
      "text/html": [
       "<div>\n",
       "<style scoped>\n",
       "    .dataframe tbody tr th:only-of-type {\n",
       "        vertical-align: middle;\n",
       "    }\n",
       "\n",
       "    .dataframe tbody tr th {\n",
       "        vertical-align: top;\n",
       "    }\n",
       "\n",
       "    .dataframe thead th {\n",
       "        text-align: right;\n",
       "    }\n",
       "</style>\n",
       "<table border=\"1\" class=\"dataframe\">\n",
       "  <thead>\n",
       "    <tr style=\"text-align: right;\">\n",
       "      <th></th>\n",
       "      <th>title</th>\n",
       "      <th>text</th>\n",
       "      <th>label</th>\n",
       "    </tr>\n",
       "  </thead>\n",
       "  <tbody>\n",
       "    <tr>\n",
       "      <th>0</th>\n",
       "      <td>Ted Cruz Reveals Paranoid Fantasy Involving O...</td>\n",
       "      <td>Republican presidential hopeful Ted Cruz stunn...</td>\n",
       "      <td>0</td>\n",
       "    </tr>\n",
       "    <tr>\n",
       "      <th>1</th>\n",
       "      <td>GOP MAJORITY SENATE FINALLY GETS IT RIGHT: Vot...</td>\n",
       "      <td>The Democrats tried to attach a gun control am...</td>\n",
       "      <td>0</td>\n",
       "    </tr>\n",
       "    <tr>\n",
       "      <th>2</th>\n",
       "      <td>Rejecting Trump, Wall Street Republican donors...</td>\n",
       "      <td>Largely united in their dislike of Republican ...</td>\n",
       "      <td>1</td>\n",
       "    </tr>\n",
       "    <tr>\n",
       "      <th>3</th>\n",
       "      <td>COLLEGE PROFESSOR CAUGHT ON TAPE: You Can’t Ha...</td>\n",
       "      <td>Close your eyes and imagine a white professor ...</td>\n",
       "      <td>0</td>\n",
       "    </tr>\n",
       "    <tr>\n",
       "      <th>4</th>\n",
       "      <td>Spanish foreign minister calls Catalonia's lea...</td>\n",
       "      <td>The independence speech made by Catalonia s le...</td>\n",
       "      <td>1</td>\n",
       "    </tr>\n",
       "  </tbody>\n",
       "</table>\n",
       "</div>"
      ],
      "text/plain": [
       "                                               title  \\\n",
       "0   Ted Cruz Reveals Paranoid Fantasy Involving O...   \n",
       "1  GOP MAJORITY SENATE FINALLY GETS IT RIGHT: Vot...   \n",
       "2  Rejecting Trump, Wall Street Republican donors...   \n",
       "3  COLLEGE PROFESSOR CAUGHT ON TAPE: You Can’t Ha...   \n",
       "4  Spanish foreign minister calls Catalonia's lea...   \n",
       "\n",
       "                                                text  label  \n",
       "0  Republican presidential hopeful Ted Cruz stunn...      0  \n",
       "1  The Democrats tried to attach a gun control am...      0  \n",
       "2  Largely united in their dislike of Republican ...      1  \n",
       "3  Close your eyes and imagine a white professor ...      0  \n",
       "4  The independence speech made by Catalonia s le...      1  "
      ]
     },
     "execution_count": 10,
     "metadata": {},
     "output_type": "execute_result"
    }
   ],
   "source": [
    "import pandas as pd\n",
    "from sklearn.utils import shuffle\n",
    "import re\n",
    "\n",
    "# Carregar os datasets\n",
    "df_fake = pd.read_csv(\"Data/Fake.csv\")\n",
    "df_true = pd.read_csv(\"Data/True.csv\")\n",
    "\n",
    "# Adicionar rótulo: 0 = fake, 1 = true\n",
    "df_fake['label'] = 0\n",
    "df_true['label'] = 1\n",
    "\n",
    "def limpar_prefixo_agencia(texto):\n",
    "    return re.sub(r\"^(.*?\\(Reuters\\)[\\s\\-–]*)\", \"\", texto)\n",
    "\n",
    "df_true['text'] = df_true['text'].apply(limpar_prefixo_agencia)\n",
    "\n",
    "# Juntar os dados\n",
    "df = pd.concat([df_fake, df_true], ignore_index=True)\n",
    "df = shuffle(df).reset_index(drop=True)\n",
    "\n",
    "# Remover textos duplicados antes da divisão\n",
    "df = df.drop_duplicates(subset='text').reset_index(drop=True)\n",
    "\n",
    "# Verificar estrutura\n",
    "df[['title', 'text', 'label']].head()\n"
   ]
  },
  {
   "cell_type": "code",
   "execution_count": 11,
   "metadata": {},
   "outputs": [],
   "source": [
    "# Dividir em treino, validação e teste\n",
    "from sklearn.model_selection import train_test_split\n",
    "\n",
    "train_texts, temp_texts, train_labels, temp_labels = train_test_split(\n",
    "    df['text'], df['label'], test_size=0.2, stratify=df['label'], random_state=42)\n",
    "\n",
    "val_texts, test_texts, val_labels, test_labels = train_test_split(\n",
    "    temp_texts, temp_labels, test_size=0.5, stratify=temp_labels, random_state=42)\n"
   ]
  },
  {
   "cell_type": "code",
   "execution_count": 12,
   "metadata": {},
   "outputs": [],
   "source": [
    "# Tokenização com BERT\n",
    "from transformers import BertTokenizer\n",
    "\n",
    "tokenizer = BertTokenizer.from_pretrained('bert-base-uncased')\n",
    "\n",
    "def tokenize_data(texts):\n",
    "    return tokenizer(\n",
    "        list(texts),\n",
    "        padding=True,\n",
    "        truncation=True,\n",
    "        max_length=512,\n",
    "        return_tensors='pt'\n",
    "    )\n",
    "\n",
    "train_encodings = tokenize_data(train_texts)\n",
    "val_encodings = tokenize_data(val_texts)\n",
    "test_encodings = tokenize_data(test_texts)"
   ]
  },
  {
   "cell_type": "code",
   "execution_count": 13,
   "metadata": {},
   "outputs": [],
   "source": [
    "import torch\n",
    "from torch.utils.data import Dataset\n",
    "\n",
    "class FakeNewsDataset(Dataset):\n",
    "    def __init__(self, encodings, labels):\n",
    "        self.encodings = encodings\n",
    "        self.labels = labels.reset_index(drop=True)\n",
    "\n",
    "    def __len__(self):\n",
    "        return len(self.labels)\n",
    "\n",
    "    def __getitem__(self, idx):\n",
    "        item = {key: val[idx] for key, val in self.encodings.items()}\n",
    "        item['labels'] = torch.tensor(self.labels[idx], dtype=torch.float)\n",
    "        return item\n",
    "\n",
    "# Criar datasets\n",
    "train_dataset = FakeNewsDataset(train_encodings, train_labels)\n",
    "val_dataset = FakeNewsDataset(val_encodings, val_labels)\n",
    "test_dataset = FakeNewsDataset(test_encodings, test_labels)"
   ]
  },
  {
   "cell_type": "code",
   "execution_count": null,
   "metadata": {},
   "outputs": [],
   "source": [
    "import torch.nn as nn\n",
    "from transformers import BertModel\n",
    "\n",
    "class FakeBERT_CNN(nn.Module):\n",
    "    def __init__(self):\n",
    "        super(FakeBERT_CNN, self).__init__()\n",
    "        self.bert = BertModel.from_pretrained(\"bert-base-uncased\")\n",
    "        self.conv1 = nn.Conv1d(in_channels=768, out_channels=64, kernel_size=5, padding=1)\n",
    "        self.pool = nn.AdaptiveMaxPool1d(1)\n",
    "        self.fc = nn.Linear(64, 1)\n",
    "        self.dropout = nn.Dropout(0.1)\n",
    "\n",
    "    def forward(self, input_ids, attention_mask):\n",
    "        bert_out = self.bert(input_ids=input_ids, attention_mask=attention_mask).last_hidden_state \n",
    "        x = bert_out.permute(0, 2, 1)  \n",
    "        x = torch.relu(self.conv1(x))  \n",
    "        x = self.pool(x).squeeze(2)    \n",
    "        x = self.dropout(x)\n",
    "        logits = self.fc(x).squeeze(1)  \n",
    "        return logits"
   ]
  },
  {
   "cell_type": "code",
   "execution_count": null,
   "metadata": {},
   "outputs": [],
   "source": [
    "from torch.utils.data import DataLoader\n",
    "\n",
    "train_loader = DataLoader(train_dataset, batch_size=16, shuffle=True)\n",
    "val_loader = DataLoader(val_dataset, batch_size=16)\n",
    "\n",
    "device = torch.device(\"cuda\" if torch.cuda.is_available() else \"cpu\")\n",
    "model = FakeBERT_CNN().to(device)\n",
    "\n",
    "from torch.optim import AdamW\n",
    "\n",
    "optimizer = AdamW(model.parameters(), lr=2e-5)\n",
    "criterion = nn.BCEWithLogitsLoss()\n"
   ]
  },
  {
   "cell_type": "code",
   "execution_count": 16,
   "metadata": {},
   "outputs": [],
   "source": [
    "from sklearn.metrics import accuracy_score, f1_score, roc_auc_score, precision_score, recall_score, confusion_matrix \n",
    "from tqdm import tqdm\n",
    "\n",
    "def train_one_epoch(model, loader, optimizer, criterion, device):\n",
    "    model.train()\n",
    "    total_loss = 0\n",
    "    for batch in tqdm(loader, desc=\"Treino\"):\n",
    "        input_ids = batch['input_ids'].to(device)\n",
    "        attention_mask = batch['attention_mask'].to(device)\n",
    "        labels = batch['labels'].to(device)\n",
    "\n",
    "        optimizer.zero_grad()\n",
    "        outputs = model(input_ids, attention_mask)\n",
    "        loss = criterion(outputs, labels)\n",
    "        loss.backward()\n",
    "        optimizer.step()\n",
    "\n",
    "        total_loss += loss.item()\n",
    "    return total_loss / len(loader)"
   ]
  },
  {
   "cell_type": "code",
   "execution_count": 17,
   "metadata": {},
   "outputs": [],
   "source": [
    "def evaluate(model, loader, criterion, device):\n",
    "    model.eval()\n",
    "    total_loss = 0\n",
    "    preds, true_labels = [], []\n",
    "\n",
    "    with torch.no_grad():\n",
    "        for batch in tqdm(loader, desc=\"Validação\"):\n",
    "            input_ids = batch['input_ids'].to(device)\n",
    "            attention_mask = batch['attention_mask'].to(device)\n",
    "            labels = batch['labels'].to(device)\n",
    "\n",
    "            outputs = model(input_ids, attention_mask)\n",
    "            loss = criterion(outputs, labels)\n",
    "            total_loss += loss.item()\n",
    "\n",
    "            probs = torch.sigmoid(outputs)\n",
    "            preds.extend(probs.cpu().numpy())\n",
    "            true_labels.extend(labels.cpu().numpy())\n",
    "\n",
    "    preds_bin = [1 if p >= 0.5 else 0 for p in preds]\n",
    "    acc = accuracy_score(true_labels, preds_bin)\n",
    "    f1 = f1_score(true_labels, preds_bin)\n",
    "    roc = roc_auc_score(true_labels, preds)\n",
    "    precision = precision_score(true_labels, preds_bin)\n",
    "    recall = recall_score(true_labels, preds_bin)\n",
    "\n",
    "    return total_loss / len(loader), acc, f1, roc, precision, recall, preds_bin, true_labels\n"
   ]
  },
  {
   "cell_type": "code",
   "execution_count": 18,
   "metadata": {},
   "outputs": [
    {
     "name": "stdout",
     "output_type": "stream",
     "text": [
      "\n",
      "Época 1/3\n"
     ]
    },
    {
     "name": "stderr",
     "output_type": "stream",
     "text": [
      "Treino: 100%|██████████| 1933/1933 [21:06<00:00,  1.53it/s]\n",
      "Validação: 100%|██████████| 242/242 [00:50<00:00,  4.81it/s]\n"
     ]
    },
    {
     "name": "stdout",
     "output_type": "stream",
     "text": [
      "\n",
      " Val Loss: 0.0113 | Accuracy: 0.9961 | F1: 0.9965 | ROC AUC: 1.0000 | Precision: 0.9962 | Recall: 0.9967\n",
      "\n",
      "Época 2/3\n"
     ]
    },
    {
     "name": "stderr",
     "output_type": "stream",
     "text": [
      "Treino: 100%|██████████| 1933/1933 [21:05<00:00,  1.53it/s]\n",
      "Validação: 100%|██████████| 242/242 [00:50<00:00,  4.81it/s]\n"
     ]
    },
    {
     "name": "stdout",
     "output_type": "stream",
     "text": [
      "\n",
      " Val Loss: 0.0166 | Accuracy: 0.9935 | F1: 0.9941 | ROC AUC: 0.9999 | Precision: 0.9990 | Recall: 0.9892\n",
      "\n",
      "Época 3/3\n"
     ]
    },
    {
     "name": "stderr",
     "output_type": "stream",
     "text": [
      "Treino: 100%|██████████| 1933/1933 [21:05<00:00,  1.53it/s]\n",
      "Validação: 100%|██████████| 242/242 [00:50<00:00,  4.81it/s]"
     ]
    },
    {
     "name": "stdout",
     "output_type": "stream",
     "text": [
      "\n",
      " Val Loss: 0.0069 | Accuracy: 0.9990 | F1: 0.9991 | ROC AUC: 1.0000 | Precision: 0.9981 | Recall: 1.0000\n"
     ]
    },
    {
     "name": "stderr",
     "output_type": "stream",
     "text": [
      "\n"
     ]
    }
   ],
   "source": [
    "EPOCHS = 3\n",
    "\n",
    "for epoch in range(EPOCHS):\n",
    "    print(f\"\\nÉpoca {epoch+1}/{EPOCHS}\")\n",
    "    train_loss = train_one_epoch(model, train_loader, optimizer, criterion, device)\n",
    "    val_loss, acc, f1, roc, precision, recall, _, _ = evaluate(model, val_loader, criterion, device)\n",
    "\n",
    "    print(f\"\\n Val Loss: {val_loss:.4f} | Accuracy: {acc:.4f} | F1: {f1:.4f} | ROC AUC: {roc:.4f} | Precision: {precision:.4f} | Recall: {recall:.4f}\")\n"
   ]
  },
  {
   "cell_type": "code",
   "execution_count": 19,
   "metadata": {},
   "outputs": [
    {
     "name": "stderr",
     "output_type": "stream",
     "text": [
      "Validação: 100%|██████████| 242/242 [00:50<00:00,  4.80it/s]"
     ]
    },
    {
     "name": "stdout",
     "output_type": "stream",
     "text": [
      "\n",
      " Val Loss: 0.0027 | Accuracy: 0.9992 | F1: 0.9993 | ROC AUC: 1.0000 | Precision: 0.9991 | Recall: 0.9995\n"
     ]
    },
    {
     "name": "stderr",
     "output_type": "stream",
     "text": [
      "\n"
     ]
    }
   ],
   "source": [
    "test_loader = DataLoader(test_dataset, batch_size=16)\n",
    "\n",
    "val_loss, acc, f1, roc, precision, recall, preds, labels = evaluate(\n",
    "    model, test_loader, criterion, device)\n",
    "\n",
    "print(f\"\\n Val Loss: {val_loss:.4f} | Accuracy: {acc:.4f} | F1: {f1:.4f} | ROC AUC: {roc:.4f} | Precision: {precision:.4f} | Recall: {recall:.4f}\")\n"
   ]
  },
  {
   "cell_type": "code",
   "execution_count": 20,
   "metadata": {},
   "outputs": [
    {
     "data": {
      "image/png": "[encoded data removed]",
      "text/plain": [
       "<Figure size 640x480 with 2 Axes>"
      ]
     },
     "metadata": {},
     "output_type": "display_data"
    }
   ],
   "source": [
    "import seaborn as sns\n",
    "import matplotlib.pyplot as plt\n",
    "\n",
    "cm = confusion_matrix(labels, preds)\n",
    "\n",
    "sns.heatmap(cm, annot=True, fmt='d', cmap='Blues', xticklabels=['Fake', 'Real'], yticklabels=['Fake', 'Real'])\n",
    "plt.xlabel('Predicted')\n",
    "plt.ylabel('Actual')\n",
    "plt.title('Confusion Matrix - FakeBERT')\n",
    "plt.show()"
   ]
  }
 ],
 "metadata": {
  "kernelspec": {
   "display_name": "Python 3",
   "language": "python",
   "name": "python3"
  },
  "language_info": {
   "codemirror_mode": {
    "name": "ipython",
    "version": 3
   },
   "file_extension": ".py",
   "mimetype": "text/x-python",
   "name": "python",
   "nbconvert_exporter": "python",
   "pygments_lexer": "ipython3",
   "version": "3.12.0"
  }
 },
 "nbformat": 4,
 "nbformat_minor": 2
}
