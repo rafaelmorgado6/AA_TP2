{
 "cells": [
  {
   "cell_type": "code",
   "execution_count": 1,
   "id": "ffd3c9c8",
   "metadata": {},
   "outputs": [
    {
     "name": "stderr",
     "output_type": "stream",
     "text": [
      "/home/artur/.local/lib/python3.11/site-packages/matplotlib/projections/__init__.py:63: UserWarning: Unable to import Axes3D. This may be due to multiple versions of Matplotlib being installed (e.g. as a system package and as a pip package). As a result, the 3D projection is not available.\n",
      "  warnings.warn(\"Unable to import Axes3D. This may be due to multiple versions of \"\n"
     ]
    }
   ],
   "source": [
    "import pandas as pd\n",
    "import re\n",
    "from sklearn.model_selection import train_test_split, cross_validate\n",
    "from sklearn.feature_extraction.text import TfidfVectorizer\n",
    "from sklearn.linear_model import LogisticRegression\n",
    "from sklearn.metrics import (\n",
    "    accuracy_score, f1_score, roc_auc_score, precision_score, recall_score,\n",
    "    confusion_matrix)\n",
    "import seaborn as sns\n",
    "import matplotlib.pyplot as plt"
   ]
  },
  {
   "cell_type": "code",
   "execution_count": 2,
   "id": "4b893912",
   "metadata": {},
   "outputs": [],
   "source": [
    "# === 1. Carregar dados e limpar\n",
    "df_fake = pd.read_csv(\"Data/Fake.csv\")\n",
    "df_true = pd.read_csv(\"Data/True.csv\")\n",
    "\n",
    "df_fake['label'] = 0\n",
    "df_true['label'] = 1\n",
    "\n",
    "df_fake.drop(columns=[\"title\", \"date\", \"subject\"], inplace=True, errors='ignore')\n",
    "df_true.drop(columns=[\"title\", \"date\", \"subject\"], inplace=True, errors='ignore')\n",
    "\n",
    "def limpar_prefixo_agencia(texto):\n",
    "    return re.sub(r\"^(.*?\\(Reuters\\)[\\s\\-–]*)\", \"\", texto)\n",
    "\n",
    "df_true['text'] = df_true['text'].apply(limpar_prefixo_agencia)\n",
    "\n",
    "df = pd.concat([df_fake, df_true], ignore_index=True)\n",
    "df = df.drop_duplicates(subset='text').sample(frac=1, random_state=42).reset_index(drop=True)\n",
    "df['input'] = df['text']"
   ]
  },
  {
   "cell_type": "code",
   "execution_count": 3,
   "id": "40e7cc40",
   "metadata": {},
   "outputs": [],
   "source": [
    "# === 2. Split treino/teste\n",
    "X_train, X_test, y_train, y_test = train_test_split(\n",
    "    df['input'], df['label'], test_size=0.2, stratify=df['label'], random_state=42\n",
    ")"
   ]
  },
  {
   "cell_type": "code",
   "execution_count": 4,
   "id": "597a5b73",
   "metadata": {},
   "outputs": [],
   "source": [
    "# === 3. Vetorização TF-IDF\n",
    "vectorizer = TfidfVectorizer(\n",
    "    stop_words=None, max_features=20000, max_df=0.75, min_df=2, ngram_range=(1, 2)\n",
    ")\n",
    "X_train_vec = vectorizer.fit_transform(X_train)\n",
    "X_test_vec = vectorizer.transform(X_test)\n"
   ]
  },
  {
   "cell_type": "code",
   "execution_count": 5,
   "id": "ba8f72f9",
   "metadata": {},
   "outputs": [
    {
     "name": "stdout",
     "output_type": "stream",
     "text": [
      " 5-Fold Cross-Validation Results:\n",
      "Accuracy (mean): 0.9897\n",
      "F1-score (mean): 0.9907\n",
      "ROC AUC (mean): 0.9989\n"
     ]
    }
   ],
   "source": [
    "# === 4. Modelo e validação cruzada\n",
    "model = LogisticRegression(\n",
    "    C=100, class_weight=\"balanced\", penalty=\"l2\", solver=\"liblinear\", max_iter=1000\n",
    ")\n",
    "\n",
    "scoring = {'accuracy': 'accuracy', 'f1': 'f1', 'roc_auc': 'roc_auc'}\n",
    "cv_results = cross_validate(model, X_train_vec, y_train, cv=5, scoring=scoring)\n",
    "\n",
    "print(\" 5-Fold Cross-Validation Results:\")\n",
    "print(f\"Accuracy (mean): {cv_results['test_accuracy'].mean():.4f}\")\n",
    "print(f\"F1-score (mean): {cv_results['test_f1'].mean():.4f}\")\n",
    "print(f\"ROC AUC (mean): {cv_results['test_roc_auc'].mean():.4f}\")"
   ]
  },
  {
   "cell_type": "code",
   "execution_count": 6,
   "id": "b1d6d957",
   "metadata": {},
   "outputs": [
    {
     "name": "stdout",
     "output_type": "stream",
     "text": [
      "\n",
      " Test Set Results:\n",
      "Accuracy:  0.9911\n",
      "Precision: 0.9904\n",
      "Recall:    0.9934\n",
      "F1-score:  0.9919\n",
      "ROC AUC:   0.9992\n"
     ]
    }
   ],
   "source": [
    "# === 5. Treino final no treino completo\n",
    "model.fit(X_train_vec, y_train)\n",
    "\n",
    "# === 6. Avaliação no conjunto de teste\n",
    "y_test_pred = model.predict(X_test_vec)\n",
    "y_test_prob = model.predict_proba(X_test_vec)[:, 1]\n",
    "\n",
    "test_acc = accuracy_score(y_test, y_test_pred)\n",
    "test_prec = precision_score(y_test, y_test_pred)\n",
    "test_rec = recall_score(y_test, y_test_pred)\n",
    "test_f1 = f1_score(y_test, y_test_pred)\n",
    "test_roc = roc_auc_score(y_test, y_test_prob)\n",
    "\n",
    "print(\"\\n Test Set Results:\")\n",
    "print(f\"Accuracy:  {test_acc:.4f}\")\n",
    "print(f\"Precision: {test_prec:.4f}\")\n",
    "print(f\"Recall:    {test_rec:.4f}\")\n",
    "print(f\"F1-score:  {test_f1:.4f}\")\n",
    "print(f\"ROC AUC:   {test_roc:.4f}\")"
   ]
  },
  {
   "cell_type": "code",
   "execution_count": null,
   "id": "455c3bc4",
   "metadata": {},
   "outputs": [
    {
     "data": {
      "image/png": "[encoded data removed]",
      "text/plain": [
       "<Figure size 640x480 with 2 Axes>"
      ]
     },
     "metadata": {},
     "output_type": "display_data"
    }
   ],
   "source": [
    "# === 7. Confusion Matrix\n",
    "cm = confusion_matrix(y_test, y_test_pred)\n",
    "sns.heatmap(cm, annot=True, fmt='d', cmap='Blues', xticklabels=['Fake', 'Real'], yticklabels=['Fake', 'Real'])\n",
    "plt.xlabel('Predicted')\n",
    "plt.ylabel('Actual')\n",
    "plt.title('Confusion Matrix')\n",
    "plt.show()"
   ]
  }
 ],
 "metadata": {
  "kernelspec": {
   "display_name": "Python 3",
   "language": "python",
   "name": "python3"
  },
  "language_info": {
   "codemirror_mode": {
    "name": "ipython",
    "version": 3
   },
   "file_extension": ".py",
   "mimetype": "text/x-python",
   "name": "python",
   "nbconvert_exporter": "python",
   "pygments_lexer": "ipython3",
   "version": "3.11.12"
  }
 },
 "nbformat": 4,
 "nbformat_minor": 5
}
