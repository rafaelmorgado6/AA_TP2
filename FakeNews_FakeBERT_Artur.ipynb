{
 "cells": [
  {
   "cell_type": "markdown",
   "metadata": {},
   "source": [
    "# Fake News Detection com FakeBERT (BERT + CNN)"
   ]
  },
  {
   "cell_type": "code",
   "execution_count": 28,
   "metadata": {},
   "outputs": [
    {
     "data": {
      "text/html": [
       "<div>\n",
       "<style scoped>\n",
       "    .dataframe tbody tr th:only-of-type {\n",
       "        vertical-align: middle;\n",
       "    }\n",
       "\n",
       "    .dataframe tbody tr th {\n",
       "        vertical-align: top;\n",
       "    }\n",
       "\n",
       "    .dataframe thead th {\n",
       "        text-align: right;\n",
       "    }\n",
       "</style>\n",
       "<table border=\"1\" class=\"dataframe\">\n",
       "  <thead>\n",
       "    <tr style=\"text-align: right;\">\n",
       "      <th></th>\n",
       "      <th>title</th>\n",
       "      <th>text</th>\n",
       "      <th>label</th>\n",
       "    </tr>\n",
       "  </thead>\n",
       "  <tbody>\n",
       "    <tr>\n",
       "      <th>0</th>\n",
       "      <td>In divided Syria, U.S. strike both welcomed an...</td>\n",
       "      <td>Polarized by years of civil war, Syrians were ...</td>\n",
       "      <td>1</td>\n",
       "    </tr>\n",
       "    <tr>\n",
       "      <th>1</th>\n",
       "      <td>Trump will not block ex-FBI chief Comey's test...</td>\n",
       "      <td>U.S. President Donald Trump will not invoke ex...</td>\n",
       "      <td>1</td>\n",
       "    </tr>\n",
       "    <tr>\n",
       "      <th>2</th>\n",
       "      <td>POPE MEETS WITH ANGRY, JEWISH, PR0 LATE-TERM A...</td>\n",
       "      <td>As a Catholic I m offended by this Pope s poli...</td>\n",
       "      <td>0</td>\n",
       "    </tr>\n",
       "    <tr>\n",
       "      <th>3</th>\n",
       "      <td>Republican ideas for healthcare reforms could ...</td>\n",
       "      <td>President Donald Trump’s push to fulfill a cam...</td>\n",
       "      <td>1</td>\n",
       "    </tr>\n",
       "    <tr>\n",
       "      <th>4</th>\n",
       "      <td>U.S. Democrats pressure Republicans for bipart...</td>\n",
       "      <td>The White House and congressional Democrats pr...</td>\n",
       "      <td>1</td>\n",
       "    </tr>\n",
       "  </tbody>\n",
       "</table>\n",
       "</div>"
      ],
      "text/plain": [
       "                                               title  \\\n",
       "0  In divided Syria, U.S. strike both welcomed an...   \n",
       "1  Trump will not block ex-FBI chief Comey's test...   \n",
       "2  POPE MEETS WITH ANGRY, JEWISH, PR0 LATE-TERM A...   \n",
       "3  Republican ideas for healthcare reforms could ...   \n",
       "4  U.S. Democrats pressure Republicans for bipart...   \n",
       "\n",
       "                                                text  label  \n",
       "0  Polarized by years of civil war, Syrians were ...      1  \n",
       "1  U.S. President Donald Trump will not invoke ex...      1  \n",
       "2  As a Catholic I m offended by this Pope s poli...      0  \n",
       "3  President Donald Trump’s push to fulfill a cam...      1  \n",
       "4  The White House and congressional Democrats pr...      1  "
      ]
     },
     "execution_count": 28,
     "metadata": {},
     "output_type": "execute_result"
    }
   ],
   "source": [
    "import pandas as pd\n",
    "from sklearn.utils import shuffle\n",
    "import re\n",
    "\n",
    "# Carregar os datasets\n",
    "df_fake = pd.read_csv(\"Data/Fake.csv\")\n",
    "df_true = pd.read_csv(\"Data/True.csv\")\n",
    "\n",
    "# Adicionar rótulo: 0 = fake, 1 = true\n",
    "df_fake['label'] = 0\n",
    "df_true['label'] = 1\n",
    "\n",
    "def limpar_prefixo_agencia(texto):\n",
    "    return re.sub(r\"^(.*?\\(Reuters\\)[\\s\\-–]*)\", \"\", texto)\n",
    "\n",
    "df_true['text'] = df_true['text'].apply(limpar_prefixo_agencia)\n",
    "\n",
    "# Juntar os dados\n",
    "df = pd.concat([df_fake, df_true], ignore_index=True)\n",
    "df = shuffle(df).reset_index(drop=True)\n",
    "\n",
    "# Remover textos duplicados antes da divisão\n",
    "df = df.drop_duplicates(subset='text').reset_index(drop=True)\n",
    "\n",
    "# Verificar estrutura\n",
    "df[['title', 'text', 'label']].head()\n"
   ]
  },
  {
   "cell_type": "code",
   "execution_count": 29,
   "metadata": {},
   "outputs": [],
   "source": [
    "# Dividir em treino, validação e teste\n",
    "from sklearn.model_selection import train_test_split\n",
    "\n",
    "train_texts, temp_texts, train_labels, temp_labels = train_test_split(\n",
    "    df['text'], df['label'], test_size=0.2, stratify=df['label'], random_state=42)\n",
    "\n",
    "val_texts, test_texts, val_labels, test_labels = train_test_split(\n",
    "    temp_texts, temp_labels, test_size=0.5, stratify=temp_labels, random_state=42)\n"
   ]
  },
  {
   "cell_type": "code",
   "execution_count": 30,
   "metadata": {},
   "outputs": [],
   "source": [
    "# Tokenização com BERT\n",
    "from transformers import BertTokenizer\n",
    "\n",
    "tokenizer = BertTokenizer.from_pretrained('bert-base-uncased')\n",
    "\n",
    "def tokenize_data(texts):\n",
    "    return tokenizer(\n",
    "        list(texts),\n",
    "        padding=True,\n",
    "        truncation=True,\n",
    "        max_length=128,\n",
    "        return_tensors='pt'\n",
    "    )\n",
    "\n",
    "train_encodings = tokenize_data(train_texts)\n",
    "val_encodings = tokenize_data(val_texts)\n",
    "test_encodings = tokenize_data(test_texts)"
   ]
  },
  {
   "cell_type": "code",
   "execution_count": 31,
   "metadata": {},
   "outputs": [],
   "source": [
    "import torch\n",
    "from torch.utils.data import Dataset\n",
    "\n",
    "class FakeNewsDataset(Dataset):\n",
    "    def __init__(self, encodings, labels):\n",
    "        self.encodings = encodings\n",
    "        self.labels = labels.reset_index(drop=True)\n",
    "\n",
    "    def __len__(self):\n",
    "        return len(self.labels)\n",
    "\n",
    "    def __getitem__(self, idx):\n",
    "        item = {key: val[idx] for key, val in self.encodings.items()}\n",
    "        item['labels'] = torch.tensor(self.labels[idx], dtype=torch.float)\n",
    "        return item\n",
    "\n",
    "# Criar datasets\n",
    "train_dataset = FakeNewsDataset(train_encodings, train_labels)\n",
    "val_dataset = FakeNewsDataset(val_encodings, val_labels)\n",
    "test_dataset = FakeNewsDataset(test_encodings, test_labels)"
   ]
  },
  {
   "cell_type": "code",
   "execution_count": 32,
   "metadata": {},
   "outputs": [],
   "source": [
    "import torch.nn as nn\n",
    "from transformers import BertModel\n",
    "\n",
    "class FakeBERT_CNN(nn.Module):\n",
    "    def __init__(self):\n",
    "        super(FakeBERT_CNN, self).__init__()\n",
    "        self.bert = BertModel.from_pretrained(\"bert-base-uncased\")\n",
    "        self.conv1 = nn.Conv1d(in_channels=768, out_channels=64, kernel_size=5, padding=1)\n",
    "        self.pool = nn.AdaptiveMaxPool1d(1)\n",
    "        self.fc = nn.Linear(64, 1)\n",
    "        self.dropout = nn.Dropout(0.1)\n",
    "\n",
    "    def forward(self, input_ids, attention_mask):\n",
    "        # BERT embeddings\n",
    "        bert_out = self.bert(input_ids=input_ids, attention_mask=attention_mask).last_hidden_state  # (B, T, 768)\n",
    "        x = bert_out.permute(0, 2, 1)  # (B, 768, T)\n",
    "        x = torch.relu(self.conv1(x))  # (B, 128, T)\n",
    "        x = self.pool(x).squeeze(2)    # (B, 128)\n",
    "        x = self.dropout(x)\n",
    "        logits = self.fc(x).squeeze(1)  # (B)\n",
    "        return logits"
   ]
  },
  {
   "cell_type": "code",
   "execution_count": 33,
   "metadata": {},
   "outputs": [],
   "source": [
    "from torch.utils.data import DataLoader\n",
    "\n",
    "# DataLoaders\n",
    "train_loader = DataLoader(train_dataset, batch_size=16, shuffle=True)\n",
    "val_loader = DataLoader(val_dataset, batch_size=16)\n",
    "\n",
    "# Inicializar modelo\n",
    "device = torch.device(\"cuda\" if torch.cuda.is_available() else \"cpu\")\n",
    "model = FakeBERT_CNN().to(device)\n",
    "\n",
    "# Otimizador e função de custo\n",
    "from torch.optim import AdamW\n",
    "\n",
    "optimizer = AdamW(model.parameters(), lr=2e-5)\n",
    "criterion = nn.BCEWithLogitsLoss()\n"
   ]
  },
  {
   "cell_type": "code",
   "execution_count": 34,
   "metadata": {},
   "outputs": [],
   "source": [
    "from sklearn.metrics import accuracy_score, f1_score, roc_auc_score\n",
    "from tqdm import tqdm\n",
    "\n",
    "def train_one_epoch(model, loader, optimizer, criterion, device):\n",
    "    model.train()\n",
    "    total_loss = 0\n",
    "    for batch in tqdm(loader, desc=\"Treino\"):\n",
    "        input_ids = batch['input_ids'].to(device)\n",
    "        attention_mask = batch['attention_mask'].to(device)\n",
    "        labels = batch['labels'].to(device)\n",
    "\n",
    "        optimizer.zero_grad()\n",
    "        outputs = model(input_ids, attention_mask)\n",
    "        loss = criterion(outputs, labels)\n",
    "        loss.backward()\n",
    "        optimizer.step()\n",
    "\n",
    "        total_loss += loss.item()\n",
    "    return total_loss / len(loader)"
   ]
  },
  {
   "cell_type": "code",
   "execution_count": 35,
   "metadata": {},
   "outputs": [],
   "source": [
    "def evaluate(model, loader, criterion, device):\n",
    "    model.eval()\n",
    "    total_loss = 0\n",
    "    preds, true_labels = [], []\n",
    "\n",
    "    with torch.no_grad():\n",
    "        for batch in tqdm(loader, desc=\"Validação\"):\n",
    "            input_ids = batch['input_ids'].to(device)\n",
    "            attention_mask = batch['attention_mask'].to(device)\n",
    "            labels = batch['labels'].to(device)\n",
    "\n",
    "            outputs = model(input_ids, attention_mask)\n",
    "            loss = criterion(outputs, labels)\n",
    "            total_loss += loss.item()\n",
    "\n",
    "            probs = torch.sigmoid(outputs)\n",
    "            preds.extend(probs.cpu().numpy())\n",
    "            true_labels.extend(labels.cpu().numpy())\n",
    "\n",
    "    preds_bin = [1 if p >= 0.5 else 0 for p in preds]\n",
    "    acc = accuracy_score(true_labels, preds_bin)\n",
    "    f1 = f1_score(true_labels, preds_bin)\n",
    "    roc = roc_auc_score(true_labels, preds)\n",
    "\n",
    "    return total_loss / len(loader), acc, f1, roc"
   ]
  },
  {
   "cell_type": "code",
   "execution_count": 36,
   "metadata": {},
   "outputs": [
    {
     "name": "stdout",
     "output_type": "stream",
     "text": [
      "\n",
      "🌟 Época 1/3\n"
     ]
    },
    {
     "name": "stderr",
     "output_type": "stream",
     "text": [
      "Treino: 100%|██████████| 1933/1933 [05:14<00:00,  6.14it/s]\n",
      "Validação: 100%|██████████| 242/242 [00:11<00:00, 21.25it/s]\n"
     ]
    },
    {
     "name": "stdout",
     "output_type": "stream",
     "text": [
      "\n",
      "📈 Val Loss: 0.0101 | Accuracy: 0.9969 | F1: 0.9972 | ROC AUC: 0.9995\n",
      "\n",
      "🌟 Época 2/3\n"
     ]
    },
    {
     "name": "stderr",
     "output_type": "stream",
     "text": [
      "Treino: 100%|██████████| 1933/1933 [05:35<00:00,  5.75it/s]\n",
      "Validação: 100%|██████████| 242/242 [00:12<00:00, 18.69it/s]\n"
     ]
    },
    {
     "name": "stdout",
     "output_type": "stream",
     "text": [
      "\n",
      "📈 Val Loss: 0.0153 | Accuracy: 0.9951 | F1: 0.9955 | ROC AUC: 0.9995\n",
      "\n",
      "🌟 Época 3/3\n"
     ]
    },
    {
     "name": "stderr",
     "output_type": "stream",
     "text": [
      "Treino: 100%|██████████| 1933/1933 [05:45<00:00,  5.59it/s]\n",
      "Validação: 100%|██████████| 242/242 [00:11<00:00, 20.81it/s]"
     ]
    },
    {
     "name": "stdout",
     "output_type": "stream",
     "text": [
      "\n",
      "📈 Val Loss: 0.0164 | Accuracy: 0.9946 | F1: 0.9950 | ROC AUC: 0.9994\n"
     ]
    },
    {
     "name": "stderr",
     "output_type": "stream",
     "text": [
      "\n"
     ]
    }
   ],
   "source": [
    "EPOCHS = 3\n",
    "\n",
    "for epoch in range(EPOCHS):\n",
    "    print(f\"\\n🌟 Época {epoch+1}/{EPOCHS}\")\n",
    "    train_loss = train_one_epoch(model, train_loader, optimizer, criterion, device)\n",
    "    val_loss, acc, f1, roc = evaluate(model, val_loader, criterion, device)\n",
    "\n",
    "    print(f\"\\n📈 Val Loss: {val_loss:.4f} | Accuracy: {acc:.4f} | F1: {f1:.4f} | ROC AUC: {roc:.4f}\")\n"
   ]
  },
  {
   "cell_type": "code",
   "execution_count": 37,
   "metadata": {},
   "outputs": [
    {
     "name": "stderr",
     "output_type": "stream",
     "text": [
      "Validação: 100%|██████████| 242/242 [00:11<00:00, 20.40it/s]"
     ]
    },
    {
     "name": "stdout",
     "output_type": "stream",
     "text": [
      "🧪 Test Loss: 0.0124 | Accuracy: 0.9956 | F1: 0.9960 | ROC AUC: 0.9999\n"
     ]
    },
    {
     "name": "stderr",
     "output_type": "stream",
     "text": [
      "\n"
     ]
    }
   ],
   "source": [
    "test_loader = DataLoader(test_dataset, batch_size=16)\n",
    "\n",
    "test_loss, test_acc, test_f1, test_roc = evaluate(model, test_loader, criterion, device)\n",
    "\n",
    "print(f\"🧪 Test Loss: {test_loss:.4f} | Accuracy: {test_acc:.4f} | F1: {test_f1:.4f} | ROC AUC: {test_roc:.4f}\")"
   ]
  }
 ],
 "metadata": {
  "kernelspec": {
   "display_name": "Python 3",
   "language": "python",
   "name": "python3"
  },
  "language_info": {
   "codemirror_mode": {
    "name": "ipython",
    "version": 3
   },
   "file_extension": ".py",
   "mimetype": "text/x-python",
   "name": "python",
   "nbconvert_exporter": "python",
   "pygments_lexer": "ipython3",
   "version": "3.12.0"
  }
 },
 "nbformat": 4,
 "nbformat_minor": 2
}
